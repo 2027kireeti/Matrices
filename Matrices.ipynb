{
 "cells": [
  {
   "cell_type": "markdown",
   "id": "4e85e8af",
   "metadata": {},
   "source": [
    "# matrices"
   ]
  },
  {
   "cell_type": "code",
   "execution_count": 3,
   "id": "6f86f081",
   "metadata": {},
   "outputs": [],
   "source": [
    "c\n"
   ]
  },
  {
   "cell_type": "code",
   "execution_count": 9,
   "id": "453dd78f",
   "metadata": {},
   "outputs": [
    {
     "name": "stdout",
     "output_type": "stream",
     "text": [
      "[[2 3]\n",
      " [6 7]]\n"
     ]
    }
   ],
   "source": [
    "matrix_1=np.array([[2,3],[6,7]])\n",
    "print(matrix_1)"
   ]
  },
  {
   "cell_type": "code",
   "execution_count": 10,
   "id": "30289d38",
   "metadata": {},
   "outputs": [
    {
     "data": {
      "text/plain": [
       "(2, 2)"
      ]
     },
     "execution_count": 10,
     "metadata": {},
     "output_type": "execute_result"
    }
   ],
   "source": [
    "#shape of the  matrix\n",
    "matrix_1.shape"
   ]
  },
  {
   "cell_type": "code",
   "execution_count": 14,
   "id": "704e3116",
   "metadata": {},
   "outputs": [
    {
     "name": "stdout",
     "output_type": "stream",
     "text": [
      "[[10 35 40]\n",
      " [50 64 80]\n",
      " [20 15 90]]\n"
     ]
    },
    {
     "data": {
      "text/plain": [
       "(3, 3)"
      ]
     },
     "execution_count": 14,
     "metadata": {},
     "output_type": "execute_result"
    }
   ],
   "source": [
    "matrix_2=np.array([[10,35,40],[50,64,80],[20,15,90]])\n",
    "print(matrix_2)\n",
    "matrix_2.shape"
   ]
  },
  {
   "cell_type": "markdown",
   "id": "468f3347",
   "metadata": {},
   "source": [
    "### Creating matrices with random values"
   ]
  },
  {
   "cell_type": "code",
   "execution_count": 16,
   "id": "6d19a3aa",
   "metadata": {},
   "outputs": [
    {
     "data": {
      "text/plain": [
       "array([[0.76095638, 0.88634188, 0.39016484],\n",
       "       [0.88893116, 0.81660997, 0.78850087],\n",
       "       [0.40460303, 0.98934023, 0.38247545]])"
      ]
     },
     "execution_count": 16,
     "metadata": {},
     "output_type": "execute_result"
    }
   ],
   "source": [
    "random_matrix=np.random.rand(3,3)\n",
    "random_matrix#we get matric random values with less than 1 and they all are floating values"
   ]
  },
  {
   "cell_type": "code",
   "execution_count": 27,
   "id": "1948cebc",
   "metadata": {},
   "outputs": [
    {
     "data": {
      "text/plain": [
       "array([[17, 28, 59],\n",
       "       [36,  1, 39],\n",
       "       [54,  9, 22]])"
      ]
     },
     "execution_count": 27,
     "metadata": {},
     "output_type": "execute_result"
    }
   ],
   "source": [
    "#creating matrices with random integers\n",
    "random_integer_matrix=np.random.randint(60,size=(3,3))\n",
    "random_integer_matrix"
   ]
  },
  {
   "cell_type": "markdown",
   "id": "b82377c3",
   "metadata": {},
   "source": [
    "#### Matrix with all the values as 1"
   ]
  },
  {
   "cell_type": "code",
   "execution_count": 34,
   "id": "559e4c45",
   "metadata": {},
   "outputs": [
    {
     "data": {
      "text/plain": [
       "array([[1, 1, 1],\n",
       "       [1, 1, 1],\n",
       "       [1, 1, 1]])"
      ]
     },
     "execution_count": 34,
     "metadata": {},
     "output_type": "execute_result"
    }
   ],
   "source": [
    "matrix_3=np.ones((3,3),dtype=int)\n",
    "matrix_3\n"
   ]
  },
  {
   "cell_type": "code",
   "execution_count": 33,
   "id": "4fbbbcc7",
   "metadata": {},
   "outputs": [
    {
     "data": {
      "text/plain": [
       "array([[0, 0, 0],\n",
       "       [0, 0, 0],\n",
       "       [0, 0, 0]])"
      ]
     },
     "execution_count": 33,
     "metadata": {},
     "output_type": "execute_result"
    }
   ],
   "source": [
    "#matrix with all the values as zeros\n",
    "matrix_3=np.zeros((3,3),dtype=int)\n",
    "matrix_3"
   ]
  },
  {
   "cell_type": "code",
   "execution_count": 42,
   "id": "104bcd1d",
   "metadata": {},
   "outputs": [
    {
     "name": "stdout",
     "output_type": "stream",
     "text": [
      "[[1. 0. 0.]\n",
      " [0. 1. 0.]\n",
      " [0. 0. 1.]]\n"
     ]
    }
   ],
   "source": [
    "#identity matrix\n",
    "identity_matrix=np.eye(3,3)\n",
    "print(identity_matrix)"
   ]
  },
  {
   "cell_type": "code",
   "execution_count": 43,
   "id": "9bdcf538",
   "metadata": {},
   "outputs": [
    {
     "name": "stdout",
     "output_type": "stream",
     "text": [
      "[[1 0 0]\n",
      " [0 1 0]\n",
      " [0 0 1]]\n"
     ]
    }
   ],
   "source": [
    "#identity matrix\n",
    "identity_matrix=np.identity(3,dtype=int)\n",
    "print(identity_matrix)"
   ]
  },
  {
   "cell_type": "code",
   "execution_count": 45,
   "id": "c2e86e55",
   "metadata": {},
   "outputs": [
    {
     "data": {
      "text/plain": [
       "array([[16, 14, 38, 49],\n",
       "       [42, 46, 34, 31],\n",
       "       [35, 22, 29, 43]])"
      ]
     },
     "execution_count": 45,
     "metadata": {},
     "output_type": "execute_result"
    }
   ],
   "source": [
    "#transpose of matrix\n",
    "a=np.random.randint(50,size=(3,4))\n",
    "a"
   ]
  },
  {
   "cell_type": "code",
   "execution_count": 46,
   "id": "588cb4a8",
   "metadata": {},
   "outputs": [
    {
     "data": {
      "text/plain": [
       "array([[16, 42, 35],\n",
       "       [14, 46, 22],\n",
       "       [38, 34, 29],\n",
       "       [49, 31, 43]])"
      ]
     },
     "execution_count": 46,
     "metadata": {},
     "output_type": "execute_result"
    }
   ],
   "source": [
    "transpose_of_a=np.transpose(a)\n",
    "transpose_of_a"
   ]
  },
  {
   "cell_type": "code",
   "execution_count": null,
   "id": "07cf2b1c",
   "metadata": {},
   "outputs": [],
   "source": []
  }
 ],
 "metadata": {
  "kernelspec": {
   "display_name": "Python 3",
   "language": "python",
   "name": "python3"
  },
  "language_info": {
   "codemirror_mode": {
    "name": "ipython",
    "version": 3
   },
   "file_extension": ".py",
   "mimetype": "text/x-python",
   "name": "python",
   "nbconvert_exporter": "python",
   "pygments_lexer": "ipython3",
   "version": "3.9.5"
  }
 },
 "nbformat": 4,
 "nbformat_minor": 5
}
